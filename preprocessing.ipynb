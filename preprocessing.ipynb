{
 "cells": [
  {
   "cell_type": "code",
   "execution_count": 13,
   "metadata": {},
   "outputs": [],
   "source": [
    "import os\n",
    "import glob\n",
    "import requests\n",
    "import datetime\n",
    "from PIL import Image\n",
    "import pandas as pd"
   ]
  },
  {
   "cell_type": "markdown",
   "metadata": {},
   "source": [
    "## Load data"
   ]
  },
  {
   "cell_type": "code",
   "execution_count": 2,
   "metadata": {},
   "outputs": [],
   "source": [
    "file_paths = glob.glob('all_industroes/raw/*')"
   ]
  },
  {
   "cell_type": "code",
   "execution_count": 5,
   "metadata": {},
   "outputs": [],
   "source": [
    "file_df = pd.DataFrame()\n",
    "for path in file_paths:\n",
    "    try:\n",
    "        df = pd.read_csv(path)\n",
    "        if df.empty:\n",
    "            continue\n",
    "            \n",
    "        file_df = file_df.append(df)\n",
    "    except:\n",
    "        pass"
   ]
  },
  {
   "cell_type": "code",
   "execution_count": 12,
   "metadata": {},
   "outputs": [
    {
     "data": {
      "text/plain": [
       "industry_type            object\n",
       "account_id                int64\n",
       "img_url                  object\n",
       "gender                   object\n",
       "age                      object\n",
       "impressions               int64\n",
       "clicks                    int64\n",
       "start_date       datetime64[ns]\n",
       "end_date         datetime64[ns]\n",
       "dtype: object"
      ]
     },
     "execution_count": 12,
     "metadata": {},
     "output_type": "execute_result"
    }
   ],
   "source": [
    "file_df.dtypes"
   ]
  },
  {
   "cell_type": "code",
   "execution_count": 9,
   "metadata": {},
   "outputs": [
    {
     "data": {
      "text/html": [
       "<div>\n",
       "<style scoped>\n",
       "    .dataframe tbody tr th:only-of-type {\n",
       "        vertical-align: middle;\n",
       "    }\n",
       "\n",
       "    .dataframe tbody tr th {\n",
       "        vertical-align: top;\n",
       "    }\n",
       "\n",
       "    .dataframe thead th {\n",
       "        text-align: right;\n",
       "    }\n",
       "</style>\n",
       "<table border=\"1\" class=\"dataframe\">\n",
       "  <thead>\n",
       "    <tr style=\"text-align: right;\">\n",
       "      <th></th>\n",
       "      <th>industry_type</th>\n",
       "      <th>account_id</th>\n",
       "      <th>img_url</th>\n",
       "      <th>gender</th>\n",
       "      <th>age</th>\n",
       "      <th>impressions</th>\n",
       "      <th>clicks</th>\n",
       "      <th>start_date</th>\n",
       "      <th>end_date</th>\n",
       "    </tr>\n",
       "  </thead>\n",
       "  <tbody>\n",
       "    <tr>\n",
       "      <th>0</th>\n",
       "      <td>F&amp;B</td>\n",
       "      <td>495921728367023</td>\n",
       "      <td>https://scontent-nrt1-1.xx.fbcdn.net/v/t45.160...</td>\n",
       "      <td>female</td>\n",
       "      <td>25-34</td>\n",
       "      <td>115</td>\n",
       "      <td>5</td>\n",
       "      <td>2021-07-25</td>\n",
       "      <td>2021-08-23</td>\n",
       "    </tr>\n",
       "    <tr>\n",
       "      <th>1</th>\n",
       "      <td>F&amp;B</td>\n",
       "      <td>495921728367023</td>\n",
       "      <td>https://scontent-nrt1-1.xx.fbcdn.net/v/t45.160...</td>\n",
       "      <td>male</td>\n",
       "      <td>25-34</td>\n",
       "      <td>29</td>\n",
       "      <td>1</td>\n",
       "      <td>2021-07-25</td>\n",
       "      <td>2021-08-23</td>\n",
       "    </tr>\n",
       "    <tr>\n",
       "      <th>2</th>\n",
       "      <td>F&amp;B</td>\n",
       "      <td>495921728367023</td>\n",
       "      <td>https://scontent-nrt1-1.xx.fbcdn.net/v/t45.160...</td>\n",
       "      <td>unknown</td>\n",
       "      <td>25-34</td>\n",
       "      <td>4</td>\n",
       "      <td>0</td>\n",
       "      <td>2021-07-25</td>\n",
       "      <td>2021-08-23</td>\n",
       "    </tr>\n",
       "    <tr>\n",
       "      <th>3</th>\n",
       "      <td>F&amp;B</td>\n",
       "      <td>495921728367023</td>\n",
       "      <td>https://scontent-nrt1-1.xx.fbcdn.net/v/t45.160...</td>\n",
       "      <td>female</td>\n",
       "      <td>35-44</td>\n",
       "      <td>475</td>\n",
       "      <td>13</td>\n",
       "      <td>2021-07-25</td>\n",
       "      <td>2021-08-23</td>\n",
       "    </tr>\n",
       "    <tr>\n",
       "      <th>4</th>\n",
       "      <td>F&amp;B</td>\n",
       "      <td>495921728367023</td>\n",
       "      <td>https://scontent-nrt1-1.xx.fbcdn.net/v/t45.160...</td>\n",
       "      <td>male</td>\n",
       "      <td>35-44</td>\n",
       "      <td>143</td>\n",
       "      <td>1</td>\n",
       "      <td>2021-07-25</td>\n",
       "      <td>2021-08-23</td>\n",
       "    </tr>\n",
       "  </tbody>\n",
       "</table>\n",
       "</div>"
      ],
      "text/plain": [
       "  industry_type       account_id  \\\n",
       "0           F&B  495921728367023   \n",
       "1           F&B  495921728367023   \n",
       "2           F&B  495921728367023   \n",
       "3           F&B  495921728367023   \n",
       "4           F&B  495921728367023   \n",
       "\n",
       "                                             img_url   gender    age  \\\n",
       "0  https://scontent-nrt1-1.xx.fbcdn.net/v/t45.160...   female  25-34   \n",
       "1  https://scontent-nrt1-1.xx.fbcdn.net/v/t45.160...     male  25-34   \n",
       "2  https://scontent-nrt1-1.xx.fbcdn.net/v/t45.160...  unknown  25-34   \n",
       "3  https://scontent-nrt1-1.xx.fbcdn.net/v/t45.160...   female  35-44   \n",
       "4  https://scontent-nrt1-1.xx.fbcdn.net/v/t45.160...     male  35-44   \n",
       "\n",
       "   impressions  clicks  start_date    end_date  \n",
       "0          115       5  2021-07-25  2021-08-23  \n",
       "1           29       1  2021-07-25  2021-08-23  \n",
       "2            4       0  2021-07-25  2021-08-23  \n",
       "3          475      13  2021-07-25  2021-08-23  \n",
       "4          143       1  2021-07-25  2021-08-23  "
      ]
     },
     "execution_count": 9,
     "metadata": {},
     "output_type": "execute_result"
    }
   ],
   "source": [
    "file_df.head()"
   ]
  },
  {
   "cell_type": "markdown",
   "metadata": {},
   "source": [
    "## FIlter out ongoing (not finished yet) records"
   ]
  },
  {
   "cell_type": "code",
   "execution_count": 11,
   "metadata": {},
   "outputs": [],
   "source": [
    "file_df['start_date'] = pd.to_datetime(file_df['start_date'])\n",
    "file_df['end_date'] = pd.to_datetime(file_df['end_date'])"
   ]
  },
  {
   "cell_type": "code",
   "execution_count": 16,
   "metadata": {},
   "outputs": [],
   "source": [
    "date_until = datetime.date.today() - datetime.timedelta(1)"
   ]
  },
  {
   "cell_type": "code",
   "execution_count": 22,
   "metadata": {},
   "outputs": [],
   "source": [
    "file_df = file_df.query(\"end_date <= '{}'\".format(date_until))"
   ]
  },
  {
   "cell_type": "code",
   "execution_count": 23,
   "metadata": {},
   "outputs": [
    {
     "data": {
      "text/plain": [
       "427732"
      ]
     },
     "execution_count": 23,
     "metadata": {},
     "output_type": "execute_result"
    }
   ],
   "source": [
    "len(file_df)"
   ]
  },
  {
   "cell_type": "markdown",
   "metadata": {},
   "source": [
    "## Regroup age labels"
   ]
  },
  {
   "cell_type": "code",
   "execution_count": 24,
   "metadata": {},
   "outputs": [
    {
     "name": "stderr",
     "output_type": "stream",
     "text": [
      "/Users/cheng-chunchang/opt/anaconda3/envs/tensorflow/lib/python3.7/site-packages/ipykernel_launcher.py:11: SettingWithCopyWarning: \n",
      "A value is trying to be set on a copy of a slice from a DataFrame.\n",
      "Try using .loc[row_indexer,col_indexer] = value instead\n",
      "\n",
      "See the caveats in the documentation: http://pandas.pydata.org/pandas-docs/stable/user_guide/indexing.html#returning-a-view-versus-a-copy\n",
      "  # This is added back by InteractiveShellApp.init_path()\n"
     ]
    }
   ],
   "source": [
    "def adjust_age(val):\n",
    "    if val in ['18-24', '25-34']:\n",
    "        return '18-34'\n",
    "    elif val in ['35-44', '45-54']:\n",
    "        return '35-54'\n",
    "    elif val in ['55-64', '65+']:\n",
    "        return '55+'\n",
    "    else:\n",
    "        return val\n",
    "    \n",
    "file_df['age'] = file_df['age'].apply(adjust_age)"
   ]
  },
  {
   "cell_type": "code",
   "execution_count": 26,
   "metadata": {},
   "outputs": [],
   "source": [
    "file_df = file_df[file_df['age'].isin(['18-34', '35-54', '55+'])]"
   ]
  },
  {
   "cell_type": "code",
   "execution_count": 27,
   "metadata": {},
   "outputs": [],
   "source": [
    "file_df = file_df[file_df['gender']!='unknown']"
   ]
  },
  {
   "cell_type": "code",
   "execution_count": 28,
   "metadata": {},
   "outputs": [
    {
     "data": {
      "text/plain": [
       "348742"
      ]
     },
     "execution_count": 28,
     "metadata": {},
     "output_type": "execute_result"
    }
   ],
   "source": [
    "len(file_df)"
   ]
  },
  {
   "cell_type": "code",
   "execution_count": 29,
   "metadata": {},
   "outputs": [
    {
     "data": {
      "text/html": [
       "<div>\n",
       "<style scoped>\n",
       "    .dataframe tbody tr th:only-of-type {\n",
       "        vertical-align: middle;\n",
       "    }\n",
       "\n",
       "    .dataframe tbody tr th {\n",
       "        vertical-align: top;\n",
       "    }\n",
       "\n",
       "    .dataframe thead th {\n",
       "        text-align: right;\n",
       "    }\n",
       "</style>\n",
       "<table border=\"1\" class=\"dataframe\">\n",
       "  <thead>\n",
       "    <tr style=\"text-align: right;\">\n",
       "      <th></th>\n",
       "      <th>industry_type</th>\n",
       "      <th>account_id</th>\n",
       "      <th>img_url</th>\n",
       "      <th>gender</th>\n",
       "      <th>age</th>\n",
       "      <th>impressions</th>\n",
       "      <th>clicks</th>\n",
       "      <th>start_date</th>\n",
       "      <th>end_date</th>\n",
       "    </tr>\n",
       "  </thead>\n",
       "  <tbody>\n",
       "    <tr>\n",
       "      <th>2587</th>\n",
       "      <td>EC</td>\n",
       "      <td>1162877107122120</td>\n",
       "      <td>https://scontent-nrt1-1.xx.fbcdn.net/v/t45.160...</td>\n",
       "      <td>female</td>\n",
       "      <td>18-34</td>\n",
       "      <td>57</td>\n",
       "      <td>2</td>\n",
       "      <td>2018-07-02</td>\n",
       "      <td>2018-09-26</td>\n",
       "    </tr>\n",
       "    <tr>\n",
       "      <th>2588</th>\n",
       "      <td>EC</td>\n",
       "      <td>1162877107122120</td>\n",
       "      <td>https://scontent-nrt1-1.xx.fbcdn.net/v/t45.160...</td>\n",
       "      <td>male</td>\n",
       "      <td>18-34</td>\n",
       "      <td>66</td>\n",
       "      <td>3</td>\n",
       "      <td>2018-07-02</td>\n",
       "      <td>2018-09-26</td>\n",
       "    </tr>\n",
       "    <tr>\n",
       "      <th>2589</th>\n",
       "      <td>EC</td>\n",
       "      <td>1162877107122120</td>\n",
       "      <td>https://scontent-nrt1-1.xx.fbcdn.net/v/t45.160...</td>\n",
       "      <td>female</td>\n",
       "      <td>35-54</td>\n",
       "      <td>195</td>\n",
       "      <td>7</td>\n",
       "      <td>2018-07-02</td>\n",
       "      <td>2018-09-26</td>\n",
       "    </tr>\n",
       "    <tr>\n",
       "      <th>2590</th>\n",
       "      <td>EC</td>\n",
       "      <td>1162877107122120</td>\n",
       "      <td>https://scontent-nrt1-1.xx.fbcdn.net/v/t45.160...</td>\n",
       "      <td>male</td>\n",
       "      <td>35-54</td>\n",
       "      <td>174</td>\n",
       "      <td>6</td>\n",
       "      <td>2018-07-02</td>\n",
       "      <td>2018-09-26</td>\n",
       "    </tr>\n",
       "    <tr>\n",
       "      <th>2591</th>\n",
       "      <td>EC</td>\n",
       "      <td>1162877107122120</td>\n",
       "      <td>https://scontent-nrt1-1.xx.fbcdn.net/v/t45.160...</td>\n",
       "      <td>female</td>\n",
       "      <td>35-54</td>\n",
       "      <td>632</td>\n",
       "      <td>23</td>\n",
       "      <td>2018-07-02</td>\n",
       "      <td>2018-09-26</td>\n",
       "    </tr>\n",
       "  </tbody>\n",
       "</table>\n",
       "</div>"
      ],
      "text/plain": [
       "     industry_type        account_id  \\\n",
       "2587            EC  1162877107122120   \n",
       "2588            EC  1162877107122120   \n",
       "2589            EC  1162877107122120   \n",
       "2590            EC  1162877107122120   \n",
       "2591            EC  1162877107122120   \n",
       "\n",
       "                                                img_url  gender    age  \\\n",
       "2587  https://scontent-nrt1-1.xx.fbcdn.net/v/t45.160...  female  18-34   \n",
       "2588  https://scontent-nrt1-1.xx.fbcdn.net/v/t45.160...    male  18-34   \n",
       "2589  https://scontent-nrt1-1.xx.fbcdn.net/v/t45.160...  female  35-54   \n",
       "2590  https://scontent-nrt1-1.xx.fbcdn.net/v/t45.160...    male  35-54   \n",
       "2591  https://scontent-nrt1-1.xx.fbcdn.net/v/t45.160...  female  35-54   \n",
       "\n",
       "      impressions  clicks start_date   end_date  \n",
       "2587           57       2 2018-07-02 2018-09-26  \n",
       "2588           66       3 2018-07-02 2018-09-26  \n",
       "2589          195       7 2018-07-02 2018-09-26  \n",
       "2590          174       6 2018-07-02 2018-09-26  \n",
       "2591          632      23 2018-07-02 2018-09-26  "
      ]
     },
     "execution_count": 29,
     "metadata": {},
     "output_type": "execute_result"
    }
   ],
   "source": [
    "file_df.head()"
   ]
  },
  {
   "cell_type": "markdown",
   "metadata": {},
   "source": [
    "## Calculate accumulative performance by segment"
   ]
  },
  {
   "cell_type": "code",
   "execution_count": 31,
   "metadata": {},
   "outputs": [],
   "source": [
    "agg = file_df.groupby(['industry_type','account_id', 'img_url', 'age', 'gender', 'start_date', 'end_date']).sum()"
   ]
  },
  {
   "cell_type": "code",
   "execution_count": 32,
   "metadata": {},
   "outputs": [],
   "source": [
    "agg.reset_index(inplace=True)"
   ]
  },
  {
   "cell_type": "code",
   "execution_count": 34,
   "metadata": {},
   "outputs": [],
   "source": [
    "agg['flight'] = (agg['end_date'] - agg['start_date']).apply(lambda x: x.days)"
   ]
  },
  {
   "cell_type": "code",
   "execution_count": 36,
   "metadata": {},
   "outputs": [],
   "source": [
    "def season_mapping(ser):\n",
    "    timedelta = round(ser[1] / 2)\n",
    "    month = (ser[0] + pd.Timedelta(timedelta, unit='D')).month\n",
    "    if month in [1,2,3]:\n",
    "        return 1\n",
    "    elif month in [4,5,6]:\n",
    "        return 2\n",
    "    elif month in [7,8,9]:\n",
    "        return 3\n",
    "    elif month in [10,11,12]:\n",
    "        return 4\n",
    "\n",
    "agg['season'] = agg[['start_date', 'flight']].apply(season_mapping, axis=1)"
   ]
  },
  {
   "cell_type": "code",
   "execution_count": 38,
   "metadata": {},
   "outputs": [],
   "source": [
    "agg['ctr'] = agg['clicks'] / agg['impressions'] * 100"
   ]
  },
  {
   "cell_type": "code",
   "execution_count": 64,
   "metadata": {},
   "outputs": [
    {
     "data": {
      "text/plain": [
       "90258"
      ]
     },
     "execution_count": 64,
     "metadata": {},
     "output_type": "execute_result"
    }
   ],
   "source": [
    "len(agg)"
   ]
  },
  {
   "cell_type": "markdown",
   "metadata": {},
   "source": [
    "## Encode the urls to numbers for better usage later"
   ]
  },
  {
   "cell_type": "code",
   "execution_count": 39,
   "metadata": {},
   "outputs": [],
   "source": [
    "img_url_list = agg['img_url'].unique()\n",
    "n = 0\n",
    "url_mapper = {}\n",
    "for url in img_url_list:\n",
    "    url_mapper[url] = str(n)\n",
    "    n += 1"
   ]
  },
  {
   "cell_type": "code",
   "execution_count": 40,
   "metadata": {},
   "outputs": [],
   "source": [
    "agg['url_encoded'] = agg['img_url'].map(url_mapper)"
   ]
  },
  {
   "cell_type": "code",
   "execution_count": 65,
   "metadata": {},
   "outputs": [],
   "source": [
    "agg = agg.sample(frac=1, random_state=42)\n",
    "agg['url_encoded'] = agg['url_encoded'].apply(lambda x: 'unique_images/' + str(x) + '.png')\n",
    "agg['season'] = agg['season'].astype('str')\n",
    "agg_revised = agg[(agg['ctr']!=0) & (agg['ctr']<=7)]"
   ]
  },
  {
   "cell_type": "code",
   "execution_count": 66,
   "metadata": {},
   "outputs": [
    {
     "data": {
      "text/html": [
       "<div>\n",
       "<style scoped>\n",
       "    .dataframe tbody tr th:only-of-type {\n",
       "        vertical-align: middle;\n",
       "    }\n",
       "\n",
       "    .dataframe tbody tr th {\n",
       "        vertical-align: top;\n",
       "    }\n",
       "\n",
       "    .dataframe thead th {\n",
       "        text-align: right;\n",
       "    }\n",
       "</style>\n",
       "<table border=\"1\" class=\"dataframe\">\n",
       "  <thead>\n",
       "    <tr style=\"text-align: right;\">\n",
       "      <th></th>\n",
       "      <th>industry_type</th>\n",
       "      <th>account_id</th>\n",
       "      <th>img_url</th>\n",
       "      <th>age</th>\n",
       "      <th>gender</th>\n",
       "      <th>start_date</th>\n",
       "      <th>end_date</th>\n",
       "      <th>impressions</th>\n",
       "      <th>clicks</th>\n",
       "      <th>flight</th>\n",
       "      <th>season</th>\n",
       "      <th>ctr</th>\n",
       "      <th>url_encoded</th>\n",
       "    </tr>\n",
       "  </thead>\n",
       "  <tbody>\n",
       "    <tr>\n",
       "      <th>70416</th>\n",
       "      <td>OTHERS</td>\n",
       "      <td>2620908031289149</td>\n",
       "      <td>https://scontent-nrt1-1.xx.fbcdn.net/v/t45.160...</td>\n",
       "      <td>35-54</td>\n",
       "      <td>male</td>\n",
       "      <td>2020-07-20</td>\n",
       "      <td>2020-10-28</td>\n",
       "      <td>182</td>\n",
       "      <td>6</td>\n",
       "      <td>100</td>\n",
       "      <td>3</td>\n",
       "      <td>3.296703</td>\n",
       "      <td>unique_images/8357.png</td>\n",
       "    </tr>\n",
       "    <tr>\n",
       "      <th>53290</th>\n",
       "      <td>H&amp;B</td>\n",
       "      <td>338377303742414</td>\n",
       "      <td>https://scontent-nrt1-1.xx.fbcdn.net/v/t45.160...</td>\n",
       "      <td>35-54</td>\n",
       "      <td>female</td>\n",
       "      <td>2021-05-06</td>\n",
       "      <td>2021-06-07</td>\n",
       "      <td>2867</td>\n",
       "      <td>70</td>\n",
       "      <td>32</td>\n",
       "      <td>2</td>\n",
       "      <td>2.441577</td>\n",
       "      <td>unique_images/6504.png</td>\n",
       "    </tr>\n",
       "    <tr>\n",
       "      <th>33915</th>\n",
       "      <td>ENT</td>\n",
       "      <td>194852447853371</td>\n",
       "      <td>https://scontent-nrt1-1.xx.fbcdn.net/v/t45.160...</td>\n",
       "      <td>18-34</td>\n",
       "      <td>male</td>\n",
       "      <td>2019-09-30</td>\n",
       "      <td>2019-12-03</td>\n",
       "      <td>242016</td>\n",
       "      <td>5909</td>\n",
       "      <td>64</td>\n",
       "      <td>4</td>\n",
       "      <td>2.441574</td>\n",
       "      <td>unique_images/4712.png</td>\n",
       "    </tr>\n",
       "    <tr>\n",
       "      <th>5545</th>\n",
       "      <td>A&amp;A</td>\n",
       "      <td>410133069812719</td>\n",
       "      <td>https://scontent-nrt1-1.xx.fbcdn.net/v/t45.160...</td>\n",
       "      <td>35-54</td>\n",
       "      <td>male</td>\n",
       "      <td>2020-08-25</td>\n",
       "      <td>2021-03-28</td>\n",
       "      <td>133</td>\n",
       "      <td>3</td>\n",
       "      <td>215</td>\n",
       "      <td>4</td>\n",
       "      <td>2.255639</td>\n",
       "      <td>unique_images/893.png</td>\n",
       "    </tr>\n",
       "    <tr>\n",
       "      <th>41381</th>\n",
       "      <td>F&amp;B</td>\n",
       "      <td>197841007517765</td>\n",
       "      <td>https://scontent-nrt1-1.xx.fbcdn.net/v/t45.160...</td>\n",
       "      <td>55+</td>\n",
       "      <td>male</td>\n",
       "      <td>2020-11-04</td>\n",
       "      <td>2020-12-22</td>\n",
       "      <td>2050</td>\n",
       "      <td>2</td>\n",
       "      <td>48</td>\n",
       "      <td>4</td>\n",
       "      <td>0.097561</td>\n",
       "      <td>unique_images/5242.png</td>\n",
       "    </tr>\n",
       "  </tbody>\n",
       "</table>\n",
       "</div>"
      ],
      "text/plain": [
       "      industry_type        account_id  \\\n",
       "70416        OTHERS  2620908031289149   \n",
       "53290           H&B   338377303742414   \n",
       "33915           ENT   194852447853371   \n",
       "5545            A&A   410133069812719   \n",
       "41381           F&B   197841007517765   \n",
       "\n",
       "                                                 img_url    age  gender  \\\n",
       "70416  https://scontent-nrt1-1.xx.fbcdn.net/v/t45.160...  35-54    male   \n",
       "53290  https://scontent-nrt1-1.xx.fbcdn.net/v/t45.160...  35-54  female   \n",
       "33915  https://scontent-nrt1-1.xx.fbcdn.net/v/t45.160...  18-34    male   \n",
       "5545   https://scontent-nrt1-1.xx.fbcdn.net/v/t45.160...  35-54    male   \n",
       "41381  https://scontent-nrt1-1.xx.fbcdn.net/v/t45.160...    55+    male   \n",
       "\n",
       "      start_date   end_date  impressions  clicks  flight season       ctr  \\\n",
       "70416 2020-07-20 2020-10-28          182       6     100      3  3.296703   \n",
       "53290 2021-05-06 2021-06-07         2867      70      32      2  2.441577   \n",
       "33915 2019-09-30 2019-12-03       242016    5909      64      4  2.441574   \n",
       "5545  2020-08-25 2021-03-28          133       3     215      4  2.255639   \n",
       "41381 2020-11-04 2020-12-22         2050       2      48      4  0.097561   \n",
       "\n",
       "                  url_encoded  \n",
       "70416  unique_images/8357.png  \n",
       "53290  unique_images/6504.png  \n",
       "33915  unique_images/4712.png  \n",
       "5545    unique_images/893.png  \n",
       "41381  unique_images/5242.png  "
      ]
     },
     "execution_count": 66,
     "metadata": {},
     "output_type": "execute_result"
    }
   ],
   "source": [
    "agg_revised.head()"
   ]
  },
  {
   "cell_type": "code",
   "execution_count": 67,
   "metadata": {},
   "outputs": [],
   "source": [
    "agg_revised.to_csv('all_industroes/agg_revised.csv', index=False)"
   ]
  },
  {
   "cell_type": "code",
   "execution_count": 42,
   "metadata": {},
   "outputs": [],
   "source": [
    "agg.to_csv('all_industroes/agg.csv', index=False)"
   ]
  },
  {
   "cell_type": "code",
   "execution_count": 54,
   "metadata": {},
   "outputs": [
    {
     "data": {
      "text/plain": [
       "'https://scontent-nrt1-1.xx.fbcdn.net/v/t45.1600-4/14058496_6051961088752_2066266687_n.png?_nc_cat=102&ccb=1-3&_nc_sid=2aac32&_nc_ohc=HnwNzHZCqGgAX9jzOLv&_nc_ht=scontent-nrt1-1.xx&oh=09a6b296f0b79befc67de999f9295ef8&oe=61032A04'"
      ]
     },
     "execution_count": 54,
     "metadata": {},
     "output_type": "execute_result"
    }
   ],
   "source": [
    "agg[agg['url_encoded']=='1813'].iloc[0]['img_url']"
   ]
  },
  {
   "cell_type": "markdown",
   "metadata": {},
   "source": [
    "## Download images"
   ]
  },
  {
   "cell_type": "code",
   "execution_count": null,
   "metadata": {},
   "outputs": [],
   "source": [
    "n = 1\n",
    "for url in img_url_list:\n",
    "    try:\n",
    "        res = requests.get(url, stream=True)\n",
    "        file_name = 'all_industroes/unique_images/{}.png'.format(url_mapper[url])\n",
    "        with open(file_name, 'wb') as f:\n",
    "            f.write(res.content)\n",
    "        print('image {} downloaded'.format(n))\n",
    "        \n",
    "    except:\n",
    "        print('ERROR: {} {}'.format(url_mapper[url], url))\n",
    "    \n",
    "    finally:\n",
    "        n += 1\n",
    "    \n",
    "    "
   ]
  },
  {
   "cell_type": "markdown",
   "metadata": {},
   "source": [
    "## Check and convert image format, if not RGB "
   ]
  },
  {
   "cell_type": "code",
   "execution_count": 58,
   "metadata": {},
   "outputs": [],
   "source": [
    "img_path_list = glob.glob('all_industroes/unique_images/*')"
   ]
  },
  {
   "cell_type": "code",
   "execution_count": 62,
   "metadata": {
    "scrolled": true
   },
   "outputs": [
    {
     "name": "stdout",
     "output_type": "stream",
     "text": [
      "all_industroes/unique_images/5492.png\n",
      "all_industroes/unique_images/8175.png\n",
      "all_industroes/unique_images/6158.png\n",
      "all_industroes/unique_images/5684.png\n",
      "all_industroes/unique_images/5135.png\n",
      "all_industroes/unique_images/8559.png\n",
      "all_industroes/unique_images/8203.png\n",
      "all_industroes/unique_images/5727.png\n",
      "all_industroes/unique_images/4439.png\n",
      "all_industroes/unique_images/5519.png\n",
      "all_industroes/unique_images/5525.png\n",
      "all_industroes/unique_images/7333.png\n",
      "all_industroes/unique_images/5524.png\n",
      "all_industroes/unique_images/5518.png\n",
      "all_industroes/unique_images/5726.png\n",
      "all_industroes/unique_images/5134.png\n",
      "all_industroes/unique_images/5685.png\n",
      "all_industroes/unique_images/5450.png\n",
      "all_industroes/unique_images/9242.png\n",
      "all_industroes/unique_images/5478.png\n",
      "all_industroes/unique_images/5493.png\n",
      "all_industroes/unique_images/5491.png\n",
      "all_industroes/unique_images/9240.png\n",
      "all_industroes/unique_images/5452.png\n",
      "all_industroes/unique_images/8176.png\n",
      "all_industroes/unique_images/4758.png\n",
      "all_industroes/unique_images/5136.png\n",
      "all_industroes/unique_images/10530.png\n",
      "all_industroes/unique_images/5730.png\n",
      "all_industroes/unique_images/5526.png\n",
      "all_industroes/unique_images/5532.png\n",
      "all_industroes/unique_images/5533.png\n",
      "all_industroes/unique_images/5527.png\n",
      "all_industroes/unique_images/5725.png\n",
      "all_industroes/unique_images/10531.png\n",
      "all_industroes/unique_images/5679.png\n",
      "all_industroes/unique_images/5453.png\n",
      "all_industroes/unique_images/5484.png\n",
      "all_industroes/unique_images/5490.png\n",
      "all_industroes/unique_images/5494.png\n",
      "all_industroes/unique_images/5480.png\n",
      "all_industroes/unique_images/5457.png\n",
      "all_industroes/unique_images/4749.png\n",
      "all_industroes/unique_images/4761.png\n",
      "all_industroes/unique_images/5682.png\n",
      "all_industroes/unique_images/5669.png\n",
      "all_industroes/unique_images/4359.png\n",
      "all_industroes/unique_images/8205.png\n",
      "all_industroes/unique_images/8577.png\n",
      "all_industroes/unique_images/5523.png\n",
      "all_industroes/unique_images/7334.png\n",
      "all_industroes/unique_images/6765.png\n",
      "all_industroes/unique_images/5522.png\n",
      "all_industroes/unique_images/4364.png\n",
      "all_industroes/unique_images/5683.png\n",
      "all_industroes/unique_images/4760.png\n",
      "all_industroes/unique_images/4748.png\n",
      "all_industroes/unique_images/5456.png\n",
      "all_industroes/unique_images/5481.png\n",
      "all_industroes/unique_images/5495.png\n",
      "all_industroes/unique_images/5483.png\n",
      "all_industroes/unique_images/5497.png\n",
      "all_industroes/unique_images/8164.png\n",
      "all_industroes/unique_images/5681.png\n",
      "all_industroes/unique_images/5124.png\n",
      "all_industroes/unique_images/5534.png\n",
      "all_industroes/unique_images/5520.png\n",
      "all_industroes/unique_images/5508.png\n",
      "all_industroes/unique_images/5509.png\n",
      "all_industroes/unique_images/5521.png\n",
      "all_industroes/unique_images/5535.png\n",
      "all_industroes/unique_images/8207.png\n",
      "all_industroes/unique_images/5131.png\n",
      "all_industroes/unique_images/5125.png\n",
      "all_industroes/unique_images/5680.png\n",
      "all_industroes/unique_images/5469.png\n",
      "all_industroes/unique_images/6160.png\n",
      "all_industroes/unique_images/5455.png\n",
      "all_industroes/unique_images/8165.png\n",
      "all_industroes/unique_images/5496.png\n",
      "all_industroes/unique_images/7580.png\n",
      "all_industroes/unique_images/4710.png\n",
      "all_industroes/unique_images/4738.png\n",
      "all_industroes/unique_images/10395.png\n",
      "all_industroes/unique_images/6477.png\n",
      "all_industroes/unique_images/6463.png\n",
      "all_industroes/unique_images/5630.png\n",
      "all_industroes/unique_images/5156.png\n",
      "all_industroes/unique_images/5787.png\n",
      "all_industroes/unique_images/5552.png\n",
      "all_industroes/unique_images/5553.png\n",
      "all_industroes/unique_images/10021.png\n",
      "all_industroes/unique_images/4473.png\n",
      "all_industroes/unique_images/5786.png\n",
      "all_industroes/unique_images/5631.png\n",
      "all_industroes/unique_images/5157.png\n",
      "all_industroes/unique_images/5625.png\n",
      "all_industroes/unique_images/5194.png\n",
      "all_industroes/unique_images/10394.png\n",
      "all_industroes/unique_images/4739.png\n",
      "all_industroes/unique_images/10141.png\n",
      "all_industroes/unique_images/4711.png\n",
      "all_industroes/unique_images/9221.png\n",
      "all_industroes/unique_images/328.png\n",
      "all_industroes/unique_images/6104.png\n",
      "all_industroes/unique_images/5196.png\n",
      "all_industroes/unique_images/5182.png\n",
      "all_industroes/unique_images/5169.png\n",
      "all_industroes/unique_images/5155.png\n",
      "all_industroes/unique_images/5633.png\n",
      "all_industroes/unique_images/5627.png\n",
      "all_industroes/unique_images/5545.png\n",
      "all_industroes/unique_images/5551.png\n",
      "all_industroes/unique_images/5550.png\n",
      "all_industroes/unique_images/4699.png\n",
      "all_industroes/unique_images/5785.png\n",
      "all_industroes/unique_images/5626.png\n",
      "all_industroes/unique_images/5140.png\n",
      "all_industroes/unique_images/5154.png\n",
      "all_industroes/unique_images/5632.png\n",
      "all_industroes/unique_images/6475.png\n",
      "all_industroes/unique_images/5168.png\n",
      "all_industroes/unique_images/9961.png\n",
      "all_industroes/unique_images/7582.png\n",
      "all_industroes/unique_images/5352.png\n",
      "all_industroes/unique_images/10146.png\n",
      "all_industroes/unique_images/4716.png\n",
      "all_industroes/unique_images/5193.png\n",
      "all_industroes/unique_images/9971.png\n",
      "all_industroes/unique_images/10387.png\n",
      "all_industroes/unique_images/5178.png\n",
      "all_industroes/unique_images/9187.png\n",
      "all_industroes/unique_images/4879.png\n",
      "all_industroes/unique_images/5540.png\n",
      "all_industroes/unique_images/10032.png\n",
      "all_industroes/unique_images/4110.png\n",
      "all_industroes/unique_images/4111.png\n",
      "all_industroes/unique_images/10027.png\n",
      "all_industroes/unique_images/5555.png\n",
      "all_industroes/unique_images/5541.png\n",
      "all_industroes/unique_images/5179.png\n",
      "all_industroes/unique_images/6470.png\n",
      "all_industroes/unique_images/5186.png\n",
      "all_industroes/unique_images/9970.png\n",
      "all_industroes/unique_images/5192.png\n",
      "all_industroes/unique_images/4717.png\n",
      "all_industroes/unique_images/5409.png\n",
      "all_industroes/unique_images/3734.png\n",
      "all_industroes/unique_images/4729.png\n",
      "all_industroes/unique_images/10151.png\n",
      "all_industroes/unique_images/4715.png\n",
      "all_industroes/unique_images/6102.png\n",
      "all_industroes/unique_images/9966.png\n",
      "all_industroes/unique_images/5184.png\n",
      "all_industroes/unique_images/5147.png\n",
      "all_industroes/unique_images/6466.png\n",
      "all_industroes/unique_images/5557.png\n",
      "all_industroes/unique_images/5543.png\n",
      "all_industroes/unique_images/10031.png\n",
      "all_industroes/unique_images/10030.png\n",
      "all_industroes/unique_images/5542.png\n",
      "all_industroes/unique_images/5556.png\n",
      "all_industroes/unique_images/7631.png\n",
      "all_industroes/unique_images/6473.png\n",
      "all_industroes/unique_images/5634.png\n",
      "all_industroes/unique_images/9973.png\n",
      "all_industroes/unique_images/4714.png\n",
      "all_industroes/unique_images/10150.png\n",
      "all_industroes/unique_images/4728.png\n",
      "all_industroes/unique_images/7584.png\n",
      "all_industroes/unique_images/4725.png\n",
      "all_industroes/unique_images/4731.png\n",
      "all_industroes/unique_images/5407.png\n",
      "all_industroes/unique_images/4719.png\n",
      "all_industroes/unique_images/5361.png\n",
      "all_industroes/unique_images/5413.png\n",
      "all_industroes/unique_images/3062.png\n",
      "all_industroes/unique_images/9981.png\n",
      "all_industroes/unique_images/5163.png\n",
      "all_industroes/unique_images/6318.png\n",
      "all_industroes/unique_images/5177.png\n",
      "all_industroes/unique_images/5765.png\n",
      "all_industroes/unique_images/4876.png\n",
      "all_industroes/unique_images/4123.png\n",
      "all_industroes/unique_images/4679.png\n",
      "all_industroes/unique_images/5567.png\n",
      "all_industroes/unique_images/5566.png\n",
      "all_industroes/unique_images/4122.png\n",
      "all_industroes/unique_images/5764.png\n",
      "all_industroes/unique_images/4446.png\n",
      "all_industroes/unique_images/4320.png\n",
      "all_industroes/unique_images/4452.png\n",
      "all_industroes/unique_images/5162.png\n",
      "all_industroes/unique_images/5412.png\n",
      "all_industroes/unique_images/4718.png\n",
      "all_industroes/unique_images/4730.png\n",
      "all_industroes/unique_images/4724.png\n",
      "all_industroes/unique_images/4732.png\n",
      "all_industroes/unique_images/4726.png\n",
      "all_industroes/unique_images/3061.png\n",
      "all_industroes/unique_images/123.png\n",
      "all_industroes/unique_images/6455.png\n",
      "all_industroes/unique_images/5160.png\n",
      "all_industroes/unique_images/4444.png\n",
      "all_industroes/unique_images/5766.png\n",
      "all_industroes/unique_images/4875.png\n",
      "all_industroes/unique_images/5558.png\n",
      "all_industroes/unique_images/10016.png\n",
      "all_industroes/unique_images/5564.png\n",
      "all_industroes/unique_images/5216.png\n",
      "all_industroes/unique_images/5559.png\n",
      "all_industroes/unique_images/5767.png\n",
      "all_industroes/unique_images/4323.png\n",
      "all_industroes/unique_images/4492.png\n",
      "all_industroes/unique_images/5161.png\n",
      "all_industroes/unique_images/6468.png\n"
     ]
    },
    {
     "name": "stdout",
     "output_type": "stream",
     "text": [
      "all_industroes/unique_images/6326.png\n",
      "all_industroes/unique_images/6118.png\n",
      "all_industroes/unique_images/3060.png\n",
      "all_industroes/unique_images/7548.png\n",
      "all_industroes/unique_images/4727.png\n",
      "all_industroes/unique_images/4733.png\n",
      "all_industroes/unique_images/330.png\n",
      "all_industroes/unique_images/4723.png\n",
      "all_industroes/unique_images/10173.png\n",
      "all_industroes/unique_images/5763.png\n",
      "all_industroes/unique_images/5777.png\n",
      "all_industroes/unique_images/4469.png\n",
      "all_industroes/unique_images/4680.png\n",
      "all_industroes/unique_images/5561.png\n",
      "all_industroes/unique_images/8051.png\n",
      "all_industroes/unique_images/4125.png\n",
      "all_industroes/unique_images/5560.png\n",
      "all_industroes/unique_images/4871.png\n",
      "all_industroes/unique_images/4468.png\n",
      "all_industroes/unique_images/5158.png\n",
      "all_industroes/unique_images/6337.png\n",
      "all_industroes/unique_images/4508.png\n",
      "all_industroes/unique_images/4722.png\n",
      "all_industroes/unique_images/10172.png\n",
      "all_industroes/unique_images/10166.png\n",
      "all_industroes/unique_images/8867.png\n",
      "all_industroes/unique_images/9238.png\n",
      "all_industroes/unique_images/4708.png\n",
      "all_industroes/unique_images/4720.png\n",
      "all_industroes/unique_images/4734.png\n",
      "all_industroes/unique_images/131.png\n",
      "all_industroes/unique_images/5166.png\n",
      "all_industroes/unique_images/5172.png\n",
      "all_industroes/unique_images/9990.png\n",
      "all_industroes/unique_images/6453.png\n",
      "all_industroes/unique_images/5628.png\n",
      "all_industroes/unique_images/4873.png\n",
      "all_industroes/unique_images/4872.png\n",
      "all_industroes/unique_images/4457.png\n",
      "all_industroes/unique_images/5775.png\n",
      "all_industroes/unique_images/5629.png\n",
      "all_industroes/unique_images/4537.png\n",
      "all_industroes/unique_images/6334.png\n",
      "all_industroes/unique_images/5167.png\n",
      "all_industroes/unique_images/5198.png\n",
      "all_industroes/unique_images/124.png\n",
      "all_industroes/unique_images/4721.png\n",
      "all_industroes/unique_images/4709.png\n",
      "all_industroes/unique_images/9239.png\n",
      "all_industroes/unique_images/332.png\n",
      "all_industroes/unique_images/5458.png\n",
      "all_industroes/unique_images/4746.png\n",
      "all_industroes/unique_images/4752.png\n",
      "all_industroes/unique_images/8168.png\n",
      "all_industroes/unique_images/5470.png\n",
      "all_industroes/unique_images/5672.png\n",
      "all_industroes/unique_images/8578.png\n",
      "all_industroes/unique_images/5538.png\n",
      "all_industroes/unique_images/5510.png\n",
      "all_industroes/unique_images/5504.png\n",
      "all_industroes/unique_images/5505.png\n",
      "all_industroes/unique_images/5511.png\n",
      "all_industroes/unique_images/5539.png\n",
      "all_industroes/unique_images/8579.png\n",
      "all_industroes/unique_images/4357.png\n",
      "all_industroes/unique_images/5673.png\n",
      "all_industroes/unique_images/5471.png\n",
      "all_industroes/unique_images/5465.png\n",
      "all_industroes/unique_images/8169.png\n",
      "all_industroes/unique_images/4747.png\n",
      "all_industroes/unique_images/5459.png\n",
      "all_industroes/unique_images/5498.png\n",
      "all_industroes/unique_images/4751.png\n",
      "all_industroes/unique_images/4745.png\n",
      "all_industroes/unique_images/5473.png\n",
      "all_industroes/unique_images/5671.png\n",
      "all_industroes/unique_images/8553.png\n",
      "all_industroes/unique_images/7338.png\n",
      "all_industroes/unique_images/5507.png\n",
      "all_industroes/unique_images/5513.png\n",
      "all_industroes/unique_images/8037.png\n",
      "all_industroes/unique_images/5512.png\n",
      "all_industroes/unique_images/6769.png\n",
      "all_industroes/unique_images/5506.png\n",
      "all_industroes/unique_images/7339.png\n",
      "all_industroes/unique_images/5670.png\n",
      "all_industroes/unique_images/4744.png\n",
      "all_industroes/unique_images/4750.png\n",
      "all_industroes/unique_images/5499.png\n",
      "all_industroes/unique_images/5489.png\n",
      "all_industroes/unique_images/8813.png\n",
      "all_industroes/unique_images/5476.png\n",
      "all_industroes/unique_images/4754.png\n",
      "all_industroes/unique_images/6157.png\n",
      "all_industroes/unique_images/4740.png\n",
      "all_industroes/unique_images/6369.png\n",
      "all_industroes/unique_images/5728.png\n",
      "all_industroes/unique_images/5502.png\n",
      "all_industroes/unique_images/5516.png\n",
      "all_industroes/unique_images/6745.png\n",
      "all_industroes/unique_images/6744.png\n",
      "all_industroes/unique_images/5517.png\n",
      "all_industroes/unique_images/5503.png\n",
      "all_industroes/unique_images/3576.png\n",
      "all_industroes/unique_images/5675.png\n",
      "all_industroes/unique_images/7923.png\n",
      "all_industroes/unique_images/5463.png\n",
      "all_industroes/unique_images/5477.png\n",
      "all_industroes/unique_images/5461.png\n",
      "all_industroes/unique_images/5475.png\n",
      "all_industroes/unique_images/4743.png\n",
      "all_industroes/unique_images/10113.png\n",
      "all_industroes/unique_images/4757.png\n",
      "all_industroes/unique_images/5677.png\n",
      "all_industroes/unique_images/5139.png\n",
      "all_industroes/unique_images/5515.png\n",
      "all_industroes/unique_images/5501.png\n",
      "all_industroes/unique_images/5529.png\n",
      "all_industroes/unique_images/5500.png\n",
      "all_industroes/unique_images/5514.png\n",
      "all_industroes/unique_images/6425.png\n",
      "all_industroes/unique_images/5138.png\n",
      "all_industroes/unique_images/4742.png\n",
      "all_industroes/unique_images/8178.png\n",
      "all_industroes/unique_images/10112.png\n",
      "all_industroes/unique_images/5474.png\n",
      "all_industroes/unique_images/5460.png\n"
     ]
    }
   ],
   "source": [
    "for path in img_path_list:\n",
    "    img = Image.open(path)\n",
    "    if img.mode != 'RGB':\n",
    "        print(path)\n",
    "        img = img.convert('RGB')\n",
    "        img.save(path)\n"
   ]
  },
  {
   "cell_type": "code",
   "execution_count": null,
   "metadata": {},
   "outputs": [],
   "source": []
  },
  {
   "cell_type": "code",
   "execution_count": null,
   "metadata": {},
   "outputs": [],
   "source": []
  },
  {
   "cell_type": "code",
   "execution_count": null,
   "metadata": {},
   "outputs": [],
   "source": []
  },
  {
   "cell_type": "code",
   "execution_count": null,
   "metadata": {},
   "outputs": [],
   "source": []
  }
 ],
 "metadata": {
  "kernelspec": {
   "display_name": "Python 3",
   "language": "python",
   "name": "python3"
  },
  "language_info": {
   "codemirror_mode": {
    "name": "ipython",
    "version": 3
   },
   "file_extension": ".py",
   "mimetype": "text/x-python",
   "name": "python",
   "nbconvert_exporter": "python",
   "pygments_lexer": "ipython3",
   "version": "3.7.4"
  },
  "varInspector": {
   "cols": {
    "lenName": 16,
    "lenType": 16,
    "lenVar": 40
   },
   "kernels_config": {
    "python": {
     "delete_cmd_postfix": "",
     "delete_cmd_prefix": "del ",
     "library": "var_list.py",
     "varRefreshCmd": "print(var_dic_list())"
    },
    "r": {
     "delete_cmd_postfix": ") ",
     "delete_cmd_prefix": "rm(",
     "library": "var_list.r",
     "varRefreshCmd": "cat(var_dic_list()) "
    }
   },
   "types_to_exclude": [
    "module",
    "function",
    "builtin_function_or_method",
    "instance",
    "_Feature"
   ],
   "window_display": false
  }
 },
 "nbformat": 4,
 "nbformat_minor": 5
}
