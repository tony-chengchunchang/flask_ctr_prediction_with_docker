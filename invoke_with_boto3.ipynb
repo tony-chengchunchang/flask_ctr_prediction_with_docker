{
 "cells": [
  {
   "cell_type": "code",
   "execution_count": 13,
   "id": "9487493d",
   "metadata": {},
   "outputs": [],
   "source": [
    "import boto3\n",
    "import numpy as np\n",
    "import pandas as pd\n",
    "import tensorflow as tf\n",
    "from sklearn.preprocessing import OneHotEncoder\n",
    "from PIL import Image\n",
    "import json"
   ]
  },
  {
   "cell_type": "code",
   "execution_count": 2,
   "id": "6a57c313",
   "metadata": {},
   "outputs": [],
   "source": [
    "sess = boto3.Session(profile_name='ml_predict',region_name='ap-northeast-1')"
   ]
  },
  {
   "cell_type": "code",
   "execution_count": 4,
   "id": "00acf43c",
   "metadata": {},
   "outputs": [],
   "source": [
    "client = sess.client(service_name='sagemaker-runtime',region_name='ap-northeast-1')"
   ]
  },
  {
   "cell_type": "code",
   "execution_count": 10,
   "id": "3792ee2a",
   "metadata": {},
   "outputs": [],
   "source": [
    "agg = pd.read_csv('agg_revised.csv')\n",
    "ohe = OneHotEncoder(sparse=False, drop='first')\n",
    "ohe.fit(agg[['age', 'gender', 'season']])\n",
    "img_path = 'unique_images/50.png'\n",
    "img_input = np.array([np.array(Image.open(img_path).resize((128,128)))])\n",
    "brf_input = ohe.transform([['18-34', 'male', 1]])\n",
    "brf_input = tf.expand_dims(np.append(brf_input, 30), axis=0)"
   ]
  },
  {
   "cell_type": "code",
   "execution_count": 32,
   "id": "4ef0c98a",
   "metadata": {},
   "outputs": [],
   "source": [
    "input_data = {\n",
    "    'inputs': {\n",
    "        'input_1': img_input.tolist(), \n",
    "        'input_2': brf_input.numpy().tolist()\n",
    "    }\n",
    "}"
   ]
  },
  {
   "cell_type": "code",
   "execution_count": 33,
   "id": "a543fde3",
   "metadata": {},
   "outputs": [],
   "source": [
    "input_json = json.dumps(input_data)"
   ]
  },
  {
   "cell_type": "code",
   "execution_count": 44,
   "id": "f5f095b4",
   "metadata": {},
   "outputs": [],
   "source": [
    "res = client.invoke_endpoint(EndpointName='tf-complex-cnn-2021-07-30-16-20-57-143', \n",
    "                       Body=input_json, ContentType='application/json')"
   ]
  },
  {
   "cell_type": "code",
   "execution_count": 35,
   "id": "18e650c8",
   "metadata": {},
   "outputs": [
    {
     "data": {
      "text/plain": [
       "{'ResponseMetadata': {'RequestId': '7a5ca5cd-a4db-4a9c-ba77-3eede5ea2134',\n",
       "  'HTTPStatusCode': 200,\n",
       "  'HTTPHeaders': {'x-amzn-requestid': '7a5ca5cd-a4db-4a9c-ba77-3eede5ea2134',\n",
       "   'x-amzn-invoked-production-variant': 'AllTraffic',\n",
       "   'date': 'Fri, 30 Jul 2021 18:36:05 GMT',\n",
       "   'content-type': 'application/json',\n",
       "   'content-length': '69'},\n",
       "  'RetryAttempts': 0},\n",
       " 'ContentType': 'application/json',\n",
       " 'InvokedProductionVariant': 'AllTraffic',\n",
       " 'Body': <botocore.response.StreamingBody at 0x1f3e4f32d48>}"
      ]
     },
     "execution_count": 35,
     "metadata": {},
     "output_type": "execute_result"
    }
   ],
   "source": [
    "res"
   ]
  },
  {
   "cell_type": "code",
   "execution_count": 45,
   "id": "88bd69df",
   "metadata": {},
   "outputs": [],
   "source": [
    "pred = json.loads(res['Body'].read())"
   ]
  },
  {
   "cell_type": "code",
   "execution_count": 46,
   "id": "24405954",
   "metadata": {},
   "outputs": [
    {
     "data": {
      "text/plain": [
       "{'outputs': [[2.65237093]]}"
      ]
     },
     "execution_count": 46,
     "metadata": {},
     "output_type": "execute_result"
    }
   ],
   "source": [
    "pred"
   ]
  },
  {
   "cell_type": "code",
   "execution_count": null,
   "id": "bfafde70",
   "metadata": {},
   "outputs": [],
   "source": []
  }
 ],
 "metadata": {
  "kernelspec": {
   "display_name": "Python 3",
   "language": "python",
   "name": "python3"
  },
  "language_info": {
   "codemirror_mode": {
    "name": "ipython",
    "version": 3
   },
   "file_extension": ".py",
   "mimetype": "text/x-python",
   "name": "python",
   "nbconvert_exporter": "python",
   "pygments_lexer": "ipython3",
   "version": "3.7.10"
  }
 },
 "nbformat": 4,
 "nbformat_minor": 5
}
